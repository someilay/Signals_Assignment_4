{
 "cells": [
  {
   "cell_type": "code",
   "execution_count": 1,
   "metadata": {
    "ExecuteTime": {
     "end_time": "2023-04-22T09:40:46.407833956Z",
     "start_time": "2023-04-22T09:40:46.346107852Z"
    }
   },
   "outputs": [],
   "source": [
    "import os\n",
    "import thinkdsp as tp\n",
    "import numpy as np\n",
    "import librosa\n",
    "from librosa.display import specshow\n",
    "import matplotlib.pyplot as plt"
   ]
  },
  {
   "cell_type": "code",
   "execution_count": 3,
   "outputs": [],
   "source": [
    "%matplotlib inline"
   ],
   "metadata": {
    "collapsed": false,
    "ExecuteTime": {
     "end_time": "2023-04-22T09:41:28.910853064Z",
     "start_time": "2023-04-22T09:41:28.869177579Z"
    }
   }
  },
  {
   "cell_type": "code",
   "execution_count": 2,
   "outputs": [
    {
     "data": {
      "text/plain": "['right', 'left', 'yes', 'no', 'stop', 'down', 'up', 'go']"
     },
     "execution_count": 2,
     "metadata": {},
     "output_type": "execute_result"
    }
   ],
   "source": [
    "FILE_PATH_INPUT = 'corrupted'\n",
    "FILE_PATH_OUTPUT = 'corrupted_spec'\n",
    "FILE_PATH_INPUT_LIST = os.listdir(FILE_PATH_INPUT)\n",
    "FILE_PATH_INPUT_LIST[:10]"
   ],
   "metadata": {
    "collapsed": false,
    "ExecuteTime": {
     "end_time": "2023-04-22T09:40:46.415265301Z",
     "start_time": "2023-04-22T09:40:46.412650251Z"
    }
   }
  },
  {
   "cell_type": "code",
   "execution_count": 12,
   "outputs": [],
   "source": [
    "def create_dirs():\n",
    "    if not os.path.exists(FILE_PATH_OUTPUT):\n",
    "        os.makedirs(FILE_PATH_OUTPUT, exist_ok=True)\n",
    "    for sub in FILE_PATH_INPUT_LIST:\n",
    "        if not os.path.exists(f'{FILE_PATH_OUTPUT}/{sub}'):\n",
    "            os.mkdir(f'{FILE_PATH_OUTPUT}/{sub}')\n",
    "\n",
    "\n",
    "def get_all_files():\n",
    "    files = []\n",
    "    for sub in FILE_PATH_INPUT_LIST:\n",
    "        audios_names = os.listdir(f'{FILE_PATH_INPUT}/{sub}')\n",
    "        files.extend(\n",
    "            [f'{FILE_PATH_INPUT}/{sub}/{audio_name}'\n",
    "             for audio_name in audios_names]\n",
    "        )\n",
    "    return files\n",
    "\n",
    "create_dirs()\n",
    "ALL_FILES = get_all_files()"
   ],
   "metadata": {
    "collapsed": false,
    "ExecuteTime": {
     "end_time": "2023-04-22T09:49:49.803085245Z",
     "start_time": "2023-04-22T09:49:49.761332605Z"
    }
   }
  },
  {
   "cell_type": "code",
   "execution_count": 40,
   "outputs": [],
   "source": [
    "def wave_to_spec(filepath: str):\n",
    "    output = f'{FILE_PATH_OUTPUT}/' \\\n",
    "             f'{filepath[filepath.rindex(FILE_PATH_INPUT) + len(FILE_PATH_INPUT) + 1:]}'\n",
    "    output = output[:-3] + 'png'\n",
    "    wave = tp.read_wave(filepath)\n",
    "    spectrogram = wave.make_spectrogram(seg_length=1024)\n",
    "    spectrogram.plot(high=5000)\n",
    "    plt.axis('off')\n",
    "    plt.savefig(output, bbox_inches='tight', pad_inches=0)\n",
    "    print(f'Processed: {filepath}')"
   ],
   "metadata": {
    "collapsed": false,
    "ExecuteTime": {
     "end_time": "2023-04-22T09:55:55.514907576Z",
     "start_time": "2023-04-22T09:55:55.474037793Z"
    }
   }
  },
  {
   "cell_type": "code",
   "execution_count": null,
   "outputs": [],
   "source": [
    "from multiprocessing import Pool, cpu_count\n",
    "\n",
    "def process_waves():\n",
    "    with Pool(cpu_count()) as _pool:\n",
    "        print(_pool.map(wave_to_spec, ALL_FILES))\n",
    "\n",
    "process_waves()"
   ],
   "metadata": {
    "collapsed": false
   }
  }
 ],
 "metadata": {
  "kernelspec": {
   "display_name": "base",
   "language": "python",
   "name": "python3"
  },
  "language_info": {
   "codemirror_mode": {
    "name": "ipython",
    "version": 3
   },
   "file_extension": ".py",
   "mimetype": "text/x-python",
   "name": "python",
   "nbconvert_exporter": "python",
   "pygments_lexer": "ipython3",
   "version": "3.10.10"
  },
  "orig_nbformat": 4
 },
 "nbformat": 4,
 "nbformat_minor": 2
}
